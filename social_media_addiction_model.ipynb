{
 "cells": [
  {
   "cell_type": "code",
   "execution_count": 56,
   "id": "2e78e17d",
   "metadata": {},
   "outputs": [
    {
     "name": "stdout",
     "output_type": "stream",
     "text": [
      "2.15.0\n"
     ]
    }
   ],
   "source": [
    "from sklearn.svm import SVC\n",
    "from sklearn.preprocessing import StandardScaler\n",
    "from sklearn.model_selection import train_test_split\n",
    "from sklearn.metrics import accuracy_score, classification_report\n",
    "import numpy as np\n",
    "import pandas as pd\n",
    "from sklearn.model_selection import train_test_split\n",
    "from sklearn.preprocessing import StandardScaler\n",
    "import tensorflow as tf\n",
    "from tensorflow.keras import layers, models\n",
    "import matplotlib.pyplot as plt\n",
    "import seaborn as sns\n",
    "from sklearn.linear_model import LogisticRegression \n",
    "from sklearn.neural_network import MLPClassifier \n",
    "from sklearn.metrics import  precision_score, recall_score, f1_score, confusion_matrix\n",
    "\n",
    "\n",
    "import tensorflow as tf\n",
    "print(tf.__version__)\n",
    "\n",
    "import matplotlib.pyplot as plt\n",
    "import numpy as np\n",
    "from sklearn.metrics import confusion_matrix, roc_curve, auc\n",
    "from sklearn.svm import SVC\n",
    "from sklearn.preprocessing import StandardScaler\n",
    "from sklearn.metrics import accuracy_score\n"
   ]
  },
  {
   "cell_type": "code",
   "execution_count": 2,
   "id": "76fd62e6",
   "metadata": {},
   "outputs": [],
   "source": [
    "file=open(\"socialmedia_addiction.csv\")\n",
    "data=pd.read_csv(file)"
   ]
  },
  {
   "cell_type": "code",
   "execution_count": 3,
   "id": "32f1c74f",
   "metadata": {},
   "outputs": [
    {
     "name": "stdout",
     "output_type": "stream",
     "text": [
      "<bound method NDFrame.head of       age  daily_social_media_usage(hours)  daily_screen_time(hours)  \\\n",
      "0      18                                3                         5   \n",
      "1      34                                3                         6   \n",
      "2      46                                3                         4   \n",
      "3      53                                5                         3   \n",
      "4      26                                5                        11   \n",
      "...   ...                              ...                       ...   \n",
      "1995   36                                4                         5   \n",
      "1996   68                                4                         5   \n",
      "1997   32                                3                         4   \n",
      "1998   52                                6                        17   \n",
      "1999   36                                9                        16   \n",
      "\n",
      "     addiction_label  \n",
      "0                 No  \n",
      "1                 No  \n",
      "2                Yes  \n",
      "3                Yes  \n",
      "4                 No  \n",
      "...              ...  \n",
      "1995             Yes  \n",
      "1996             Yes  \n",
      "1997             Yes  \n",
      "1998              No  \n",
      "1999              No  \n",
      "\n",
      "[2000 rows x 4 columns]>\n"
     ]
    }
   ],
   "source": [
    "print(data.head)\n"
   ]
  },
  {
   "cell_type": "code",
   "execution_count": 4,
   "id": "d5577eba",
   "metadata": {
    "scrolled": true
   },
   "outputs": [
    {
     "name": "stdout",
     "output_type": "stream",
     "text": [
      "Data size is : (2000, 4)\n"
     ]
    }
   ],
   "source": [
    "print(\"Data size is :\",data.shape)"
   ]
  },
  {
   "cell_type": "code",
   "execution_count": 5,
   "id": "df7de580",
   "metadata": {},
   "outputs": [
    {
     "name": "stdout",
     "output_type": "stream",
     "text": [
      "<class 'pandas.core.frame.DataFrame'>\n",
      "RangeIndex: 2000 entries, 0 to 1999\n",
      "Data columns (total 4 columns):\n",
      " #   Column                           Non-Null Count  Dtype \n",
      "---  ------                           --------------  ----- \n",
      " 0   age                              2000 non-null   int64 \n",
      " 1   daily_social_media_usage(hours)  2000 non-null   int64 \n",
      " 2   daily_screen_time(hours)         2000 non-null   int64 \n",
      " 3   addiction_label                  2000 non-null   object\n",
      "dtypes: int64(3), object(1)\n",
      "memory usage: 62.6+ KB\n",
      "None\n"
     ]
    }
   ],
   "source": [
    "print(data.info())"
   ]
  },
  {
   "cell_type": "code",
   "execution_count": 6,
   "id": "f831eb83",
   "metadata": {},
   "outputs": [
    {
     "name": "stdout",
     "output_type": "stream",
     "text": [
      "Data description :\n",
      "\n",
      "                age  daily_social_media_usage(hours)  daily_screen_time(hours)\n",
      "count  2000.000000                      2000.000000               2000.000000\n",
      "mean     47.958000                         6.808000                 11.631000\n",
      "std      19.342371                         3.562511                  4.570917\n",
      "min      15.000000                         3.000000                  3.000000\n",
      "25%      32.000000                         4.000000                  8.000000\n",
      "50%      47.000000                         6.000000                 12.000000\n",
      "75%      65.000000                         9.000000                 16.000000\n",
      "max      81.000000                        18.000000                 19.000000\n"
     ]
    }
   ],
   "source": [
    "print(\"Data description :\\n\\n\",data.describe())"
   ]
  },
  {
   "cell_type": "code",
   "execution_count": 7,
   "id": "7e28577d",
   "metadata": {},
   "outputs": [
    {
     "name": "stdout",
     "output_type": "stream",
     "text": [
      "variables type :\n",
      "\n",
      " age                                 int64\n",
      "daily_social_media_usage(hours)     int64\n",
      "daily_screen_time(hours)            int64\n",
      "addiction_label                    object\n",
      "dtype: object\n"
     ]
    }
   ],
   "source": [
    "variable_types = data.dtypes\n",
    "print('variables type :\\n\\n',variable_types)"
   ]
  },
  {
   "cell_type": "code",
   "execution_count": 8,
   "id": "3ae5eb28",
   "metadata": {},
   "outputs": [
    {
     "name": "stdout",
     "output_type": "stream",
     "text": [
      "missing values for each attribute :\n",
      "\n",
      " age                                0\n",
      "daily_social_media_usage(hours)    0\n",
      "daily_screen_time(hours)           0\n",
      "addiction_label                    0\n",
      "dtype: int64\n"
     ]
    }
   ],
   "source": [
    "missing_values = data.isnull().sum()\n",
    "print('missing values for each attribute :\\n\\n',missing_values)"
   ]
  },
  {
   "cell_type": "code",
   "execution_count": 9,
   "id": "8241e14f",
   "metadata": {},
   "outputs": [],
   "source": [
    "data['addiction_label'] = data['addiction_label'].apply(lambda x: 0 if x == 'No' else 1)"
   ]
  },
  {
   "cell_type": "code",
   "execution_count": 10,
   "id": "4a02b4d0",
   "metadata": {},
   "outputs": [
    {
     "name": "stdout",
     "output_type": "stream",
     "text": [
      "<bound method NDFrame.head of       age  daily_social_media_usage(hours)  daily_screen_time(hours)  \\\n",
      "0      18                                3                         5   \n",
      "1      34                                3                         6   \n",
      "2      46                                3                         4   \n",
      "3      53                                5                         3   \n",
      "4      26                                5                        11   \n",
      "...   ...                              ...                       ...   \n",
      "1995   36                                4                         5   \n",
      "1996   68                                4                         5   \n",
      "1997   32                                3                         4   \n",
      "1998   52                                6                        17   \n",
      "1999   36                                9                        16   \n",
      "\n",
      "      addiction_label  \n",
      "0                   0  \n",
      "1                   0  \n",
      "2                   1  \n",
      "3                   1  \n",
      "4                   0  \n",
      "...               ...  \n",
      "1995                1  \n",
      "1996                1  \n",
      "1997                1  \n",
      "1998                0  \n",
      "1999                0  \n",
      "\n",
      "[2000 rows x 4 columns]>\n"
     ]
    }
   ],
   "source": [
    "print(data.head)"
   ]
  },
  {
   "cell_type": "code",
   "execution_count": 11,
   "id": "0648dde7",
   "metadata": {},
   "outputs": [],
   "source": [
    "X = data.drop('addiction_label', axis=1).values\n",
    "y = data['addiction_label'].values\n"
   ]
  },
  {
   "cell_type": "code",
   "execution_count": 12,
   "id": "35707d7b",
   "metadata": {},
   "outputs": [
    {
     "data": {
      "image/png": "[encoded data removed]",
      "text/plain": [
       "<Figure size 800x500 with 1 Axes>"
      ]
     },
     "metadata": {},
     "output_type": "display_data"
    }
   ],
   "source": [
    "\n",
    "plt.figure(figsize=(8, 5))\n",
    "sns.countplot(x='addiction_label', data=data)\n",
    "plt.title('Distribution of Addiction Labels')\n",
    "plt.xlabel('Addiction Label')\n",
    "plt.ylabel('Count')\n",
    "plt.show()"
   ]
  },
  {
   "cell_type": "code",
   "execution_count": 13,
   "id": "8530198a",
   "metadata": {},
   "outputs": [
    {
     "data": {
      "image/png": "[encoded data removed]",
      "text/plain": [
       "<Figure size 1000x600 with 1 Axes>"
      ]
     },
     "metadata": {},
     "output_type": "display_data"
    }
   ],
   "source": [
    "plt.figure(figsize=(10, 6))\n",
    "sns.boxplot(x='addiction_label', y='daily_social_media_usage(hours)', data=data)\n",
    "plt.title('Daily Social Media Usage Distribution by Addiction Label')\n",
    "plt.xlabel('Addiction Label')\n",
    "plt.ylabel('Daily Social Media Usage (hours)')\n",
    "plt.show()"
   ]
  },
  {
   "cell_type": "code",
   "execution_count": 14,
   "id": "fd2c3155",
   "metadata": {},
   "outputs": [],
   "source": [
    "X_train, X_test, y_train, y_test = train_test_split(X, y, test_size=0.2, random_state=42)\n"
   ]
  },
  {
   "cell_type": "code",
   "execution_count": 15,
   "id": "7c80b4e1",
   "metadata": {},
   "outputs": [
    {
     "name": "stdout",
     "output_type": "stream",
     "text": [
      "X_train shape: (1600, 3)\n",
      "X_test shape: (400, 3)\n",
      "y_train shape: (1600,)\n",
      "y_test shape: (400,)\n"
     ]
    }
   ],
   "source": [
    "print(\"X_train shape:\", X_train.shape)\n",
    "print(\"X_test shape:\", X_test.shape)\n",
    "print(\"y_train shape:\", y_train.shape)\n",
    "print(\"y_test shape:\", y_test.shape)\n",
    "\n"
   ]
  },
  {
   "cell_type": "code",
   "execution_count": 16,
   "id": "9f29d09d",
   "metadata": {},
   "outputs": [
    {
     "name": "stdout",
     "output_type": "stream",
     "text": [
      "X_train shape: [[68 10 17]\n",
      " [79  4  9]\n",
      " [49  8 19]\n",
      " ...\n",
      " [36  7 11]\n",
      " [15 13 14]\n",
      " [59  3  7]]\n",
      "X_test shape: [[36  7 11]\n",
      " [80  4  5]\n",
      " [47 15 18]\n",
      " ...\n",
      " [74 14 18]\n",
      " [23  3  4]\n",
      " [41  9 15]]\n",
      "y_train shape: [0 0 0 ... 0 1 0]\n",
      "y_test shape: [0 1 1 0 1 1 0 0 0 1 0 0 1 1 1 0 1 1 0 0 0 0 0 1 0 1 1 0 0 1 1 0 0 0 0 0 1\n",
      " 1 0 1 0 0 0 0 0 0 0 0 1 0 0 0 0 1 0 0 0 1 1 0 0 0 0 0 0 0 0 1 0 1 1 1 1 1\n",
      " 1 0 0 0 0 0 0 0 0 0 0 0 1 0 0 0 0 0 1 0 0 1 0 1 0 1 0 0 0 1 0 0 1 1 1 1 0\n",
      " 1 1 0 0 0 0 1 1 0 1 1 0 0 1 0 1 1 0 1 0 1 0 0 0 0 0 0 1 1 1 1 1 1 0 1 0 0\n",
      " 1 0 0 1 0 0 1 0 0 0 1 1 0 1 1 1 1 1 0 1 0 1 0 1 0 0 0 0 1 1 1 0 1 0 1 0 1\n",
      " 0 0 1 1 0 0 1 0 0 0 1 0 1 1 0 1 1 0 1 0 0 0 0 1 1 0 1 1 1 1 0 1 0 1 0 0 1\n",
      " 1 0 0 0 0 0 0 0 0 1 0 0 1 0 0 1 1 0 1 0 1 1 0 1 0 0 1 1 0 0 0 1 1 1 0 1 1\n",
      " 0 0 0 1 0 1 0 0 1 0 1 0 0 0 1 0 1 1 1 1 0 0 1 0 0 1 0 0 1 1 0 0 1 0 0 0 0\n",
      " 1 0 0 1 0 1 0 0 1 0 0 0 0 0 0 0 1 1 1 0 0 1 0 0 1 0 0 0 0 0 0 1 1 0 1 1 0\n",
      " 1 1 0 0 0 0 0 0 0 1 1 1 0 1 1 0 0 0 1 0 1 0 0 1 0 0 0 1 0 1 0 1 1 1 1 1 0\n",
      " 1 1 1 0 1 0 0 0 1 0 0 0 1 0 0 1 0 1 0 1 1 0 1 0 0 0 0 1 1 0]\n"
     ]
    }
   ],
   "source": [
    "\n",
    "print(\"X_train shape:\", X_train)\n",
    "print(\"X_test shape:\", X_test)\n",
    "print(\"y_train shape:\", y_train)\n",
    "print(\"y_test shape:\", y_test)"
   ]
  },
  {
   "cell_type": "code",
   "execution_count": 17,
   "id": "9e129e5d",
   "metadata": {},
   "outputs": [],
   "source": [
    "scaler = StandardScaler()\n",
    "X_train_scaled = scaler.fit_transform(X_train)\n",
    "X_test_scaled = scaler.transform(X_test)"
   ]
  },
  {
   "cell_type": "code",
   "execution_count": 18,
   "id": "52d5e656",
   "metadata": {},
   "outputs": [
    {
     "name": "stdout",
     "output_type": "stream",
     "text": [
      "WARNING:tensorflow:From C:\\Users\\adm\\anaconda3\\Lib\\site-packages\\keras\\src\\backend.py:873: The name tf.get_default_graph is deprecated. Please use tf.compat.v1.get_default_graph instead.\n",
      "\n"
     ]
    }
   ],
   "source": [
    "\n",
    "model = models.Sequential()\n",
    "model.add(layers.Dense(32, activation='relu', input_shape=(X_train.shape[1],)))\n",
    "model.add(layers.Dense(16, activation='relu'))\n",
    "model.add(layers.Dense(1, activation='sigmoid'))\n",
    "\n",
    "\n"
   ]
  },
  {
   "cell_type": "code",
   "execution_count": 19,
   "id": "6a1d5fa2",
   "metadata": {
    "scrolled": true
   },
   "outputs": [
    {
     "name": "stdout",
     "output_type": "stream",
     "text": [
      "WARNING:tensorflow:From C:\\Users\\adm\\anaconda3\\Lib\\site-packages\\keras\\src\\optimizers\\__init__.py:309: The name tf.train.Optimizer is deprecated. Please use tf.compat.v1.train.Optimizer instead.\n",
      "\n"
     ]
    }
   ],
   "source": [
    "model.compile(optimizer='adam', loss='binary_crossentropy', metrics=['accuracy'])\n"
   ]
  },
  {
   "cell_type": "code",
   "execution_count": 20,
   "id": "09c6fcb7",
   "metadata": {
    "scrolled": true
   },
   "outputs": [
    {
     "name": "stdout",
     "output_type": "stream",
     "text": [
      "Epoch 1/50\n",
      "WARNING:tensorflow:From C:\\Users\\adm\\anaconda3\\Lib\\site-packages\\keras\\src\\utils\\tf_utils.py:492: The name tf.ragged.RaggedTensorValue is deprecated. Please use tf.compat.v1.ragged.RaggedTensorValue instead.\n",
      "\n",
      "WARNING:tensorflow:From C:\\Users\\adm\\anaconda3\\Lib\\site-packages\\keras\\src\\engine\\base_layer_utils.py:384: The name tf.executing_eagerly_outside_functions is deprecated. Please use tf.compat.v1.executing_eagerly_outside_functions instead.\n",
      "\n",
      "160/160 [==============================] - 2s 3ms/step - loss: 0.6668 - accuracy: 0.6852 - val_loss: 0.5277 - val_accuracy: 0.6469\n",
      "Epoch 2/50\n",
      "160/160 [==============================] - 0s 2ms/step - loss: 0.4286 - accuracy: 0.8344 - val_loss: 0.3800 - val_accuracy: 0.8250\n",
      "Epoch 3/50\n",
      "160/160 [==============================] - 0s 2ms/step - loss: 0.3268 - accuracy: 0.8766 - val_loss: 0.3226 - val_accuracy: 0.8188\n",
      "Epoch 4/50\n",
      "160/160 [==============================] - 0s 2ms/step - loss: 0.2680 - accuracy: 0.9242 - val_loss: 0.2592 - val_accuracy: 0.9781\n",
      "Epoch 5/50\n",
      "160/160 [==============================] - 0s 3ms/step - loss: 0.2270 - accuracy: 0.9414 - val_loss: 0.2406 - val_accuracy: 0.9469\n",
      "Epoch 6/50\n",
      "160/160 [==============================] - 0s 2ms/step - loss: 0.2078 - accuracy: 0.9305 - val_loss: 0.2786 - val_accuracy: 0.8094\n",
      "Epoch 7/50\n",
      "160/160 [==============================] - 0s 2ms/step - loss: 0.1805 - accuracy: 0.9492 - val_loss: 0.1902 - val_accuracy: 0.9688\n",
      "Epoch 8/50\n",
      "160/160 [==============================] - 0s 2ms/step - loss: 0.1700 - accuracy: 0.9438 - val_loss: 0.2088 - val_accuracy: 0.8938\n",
      "Epoch 9/50\n",
      "160/160 [==============================] - 0s 2ms/step - loss: 0.1475 - accuracy: 0.9586 - val_loss: 0.1534 - val_accuracy: 0.9937\n",
      "Epoch 10/50\n",
      "160/160 [==============================] - 0s 2ms/step - loss: 0.1350 - accuracy: 0.9625 - val_loss: 0.1418 - val_accuracy: 0.9625\n",
      "Epoch 11/50\n",
      "160/160 [==============================] - 0s 2ms/step - loss: 0.1351 - accuracy: 0.9547 - val_loss: 0.1707 - val_accuracy: 0.9344\n",
      "Epoch 12/50\n",
      "160/160 [==============================] - 0s 2ms/step - loss: 0.1234 - accuracy: 0.9680 - val_loss: 0.2174 - val_accuracy: 0.8938\n",
      "Epoch 13/50\n",
      "160/160 [==============================] - 0s 2ms/step - loss: 0.1150 - accuracy: 0.9727 - val_loss: 0.1215 - val_accuracy: 0.9937\n",
      "Epoch 14/50\n",
      "160/160 [==============================] - 0s 2ms/step - loss: 0.1169 - accuracy: 0.9500 - val_loss: 0.1794 - val_accuracy: 0.9062\n",
      "Epoch 15/50\n",
      "160/160 [==============================] - 0s 2ms/step - loss: 0.1205 - accuracy: 0.9555 - val_loss: 0.3756 - val_accuracy: 0.8125\n",
      "Epoch 16/50\n",
      "160/160 [==============================] - 0s 2ms/step - loss: 0.1198 - accuracy: 0.9516 - val_loss: 0.2969 - val_accuracy: 0.8500\n",
      "Epoch 17/50\n",
      "160/160 [==============================] - 0s 2ms/step - loss: 0.1136 - accuracy: 0.9594 - val_loss: 0.1373 - val_accuracy: 0.9594\n",
      "Epoch 18/50\n",
      "160/160 [==============================] - 0s 2ms/step - loss: 0.0854 - accuracy: 0.9773 - val_loss: 0.0976 - val_accuracy: 0.9969\n",
      "Epoch 19/50\n",
      "160/160 [==============================] - 0s 2ms/step - loss: 0.0837 - accuracy: 0.9789 - val_loss: 0.0934 - val_accuracy: 0.9875\n",
      "Epoch 20/50\n",
      "160/160 [==============================] - 0s 2ms/step - loss: 0.0767 - accuracy: 0.9812 - val_loss: 0.1158 - val_accuracy: 0.9719\n",
      "Epoch 21/50\n",
      "160/160 [==============================] - 0s 2ms/step - loss: 0.0766 - accuracy: 0.9812 - val_loss: 0.0872 - val_accuracy: 0.9875\n",
      "Epoch 22/50\n",
      "160/160 [==============================] - 0s 2ms/step - loss: 0.0711 - accuracy: 0.9812 - val_loss: 0.1308 - val_accuracy: 0.9219\n",
      "Epoch 23/50\n",
      "160/160 [==============================] - 0s 2ms/step - loss: 0.0798 - accuracy: 0.9695 - val_loss: 0.0833 - val_accuracy: 0.9937\n",
      "Epoch 24/50\n",
      "160/160 [==============================] - 0s 2ms/step - loss: 0.0812 - accuracy: 0.9727 - val_loss: 0.0911 - val_accuracy: 0.9844\n",
      "Epoch 25/50\n",
      "160/160 [==============================] - 0s 2ms/step - loss: 0.1003 - accuracy: 0.9586 - val_loss: 0.0961 - val_accuracy: 0.9438\n",
      "Epoch 26/50\n",
      "160/160 [==============================] - 0s 2ms/step - loss: 0.0670 - accuracy: 0.9812 - val_loss: 0.0805 - val_accuracy: 0.9937\n",
      "Epoch 27/50\n",
      "160/160 [==============================] - 0s 2ms/step - loss: 0.0617 - accuracy: 0.9828 - val_loss: 0.0722 - val_accuracy: 0.9969\n",
      "Epoch 28/50\n",
      "160/160 [==============================] - 0s 2ms/step - loss: 0.0638 - accuracy: 0.9820 - val_loss: 0.0682 - val_accuracy: 0.9937\n",
      "Epoch 29/50\n",
      "160/160 [==============================] - 0s 2ms/step - loss: 0.0598 - accuracy: 0.9812 - val_loss: 0.0712 - val_accuracy: 0.9688\n",
      "Epoch 30/50\n",
      "160/160 [==============================] - 0s 2ms/step - loss: 0.0560 - accuracy: 0.9844 - val_loss: 0.0978 - val_accuracy: 0.9719\n",
      "Epoch 31/50\n",
      "160/160 [==============================] - 0s 2ms/step - loss: 0.0820 - accuracy: 0.9711 - val_loss: 0.0954 - val_accuracy: 0.9469\n",
      "Epoch 32/50\n",
      "160/160 [==============================] - 0s 2ms/step - loss: 0.0573 - accuracy: 0.9812 - val_loss: 0.0821 - val_accuracy: 0.9812\n",
      "Epoch 33/50\n",
      "160/160 [==============================] - 0s 2ms/step - loss: 0.0594 - accuracy: 0.9805 - val_loss: 0.0694 - val_accuracy: 0.9906\n",
      "Epoch 34/50\n",
      "160/160 [==============================] - 0s 2ms/step - loss: 0.0691 - accuracy: 0.9703 - val_loss: 0.1215 - val_accuracy: 0.9375\n",
      "Epoch 35/50\n",
      "160/160 [==============================] - 0s 2ms/step - loss: 0.0602 - accuracy: 0.9758 - val_loss: 0.0600 - val_accuracy: 0.9719\n",
      "Epoch 36/50\n",
      "160/160 [==============================] - 0s 2ms/step - loss: 0.0466 - accuracy: 0.9891 - val_loss: 0.0577 - val_accuracy: 0.9937\n",
      "Epoch 37/50\n",
      "160/160 [==============================] - 0s 2ms/step - loss: 0.0990 - accuracy: 0.9578 - val_loss: 0.1218 - val_accuracy: 0.9469\n",
      "Epoch 38/50\n",
      "160/160 [==============================] - 0s 2ms/step - loss: 0.0557 - accuracy: 0.9820 - val_loss: 0.0624 - val_accuracy: 0.9906\n",
      "Epoch 39/50\n",
      "160/160 [==============================] - 0s 2ms/step - loss: 0.0587 - accuracy: 0.9812 - val_loss: 0.0878 - val_accuracy: 0.9781\n",
      "Epoch 40/50\n",
      "160/160 [==============================] - 0s 2ms/step - loss: 0.0557 - accuracy: 0.9797 - val_loss: 0.1354 - val_accuracy: 0.9406\n",
      "Epoch 41/50\n",
      "160/160 [==============================] - 0s 2ms/step - loss: 0.0446 - accuracy: 0.9844 - val_loss: 0.0510 - val_accuracy: 0.9875\n",
      "Epoch 42/50\n",
      "160/160 [==============================] - 0s 2ms/step - loss: 0.0410 - accuracy: 0.9883 - val_loss: 0.0597 - val_accuracy: 0.9906\n",
      "Epoch 43/50\n",
      "160/160 [==============================] - 0s 2ms/step - loss: 0.0639 - accuracy: 0.9758 - val_loss: 0.0734 - val_accuracy: 0.9781\n",
      "Epoch 44/50\n",
      "160/160 [==============================] - 0s 3ms/step - loss: 0.0477 - accuracy: 0.9875 - val_loss: 0.0522 - val_accuracy: 0.9781\n",
      "Epoch 45/50\n",
      "160/160 [==============================] - 0s 3ms/step - loss: 0.0438 - accuracy: 0.9852 - val_loss: 0.0623 - val_accuracy: 0.9625\n",
      "Epoch 46/50\n",
      "160/160 [==============================] - 0s 2ms/step - loss: 0.0457 - accuracy: 0.9828 - val_loss: 0.0542 - val_accuracy: 0.9969\n",
      "Epoch 47/50\n",
      "160/160 [==============================] - 1s 4ms/step - loss: 0.0393 - accuracy: 0.9883 - val_loss: 0.0484 - val_accuracy: 0.9906\n",
      "Epoch 48/50\n",
      "160/160 [==============================] - 1s 4ms/step - loss: 0.0338 - accuracy: 0.9937 - val_loss: 0.0579 - val_accuracy: 0.9875\n",
      "Epoch 49/50\n",
      "160/160 [==============================] - 1s 4ms/step - loss: 0.0761 - accuracy: 0.9719 - val_loss: 0.1790 - val_accuracy: 0.9187\n",
      "Epoch 50/50\n",
      "160/160 [==============================] - 1s 5ms/step - loss: 0.0579 - accuracy: 0.9773 - val_loss: 0.0950 - val_accuracy: 0.9750\n"
     ]
    },
    {
     "data": {
      "text/plain": [
       "<keras.src.callbacks.History at 0x1be4cef4fd0>"
      ]
     },
     "execution_count": 20,
     "metadata": {},
     "output_type": "execute_result"
    }
   ],
   "source": [
    "model.fit(X_train, y_train, epochs=50, batch_size=8, validation_split=0.2)\n"
   ]
  },
  {
   "cell_type": "code",
   "execution_count": 21,
   "id": "79e4e142",
   "metadata": {
    "scrolled": true
   },
   "outputs": [
    {
     "name": "stdout",
     "output_type": "stream",
     "text": [
      "13/13 [==============================] - 0s 3ms/step - loss: 0.0647 - accuracy: 0.9725\n",
      "Test accuracy: 0.9725000262260437\n"
     ]
    }
   ],
   "source": [
    "test_loss, test_acc = model.evaluate(X_test, y_test)\n",
    "print(f'Test accuracy: {test_acc}')"
   ]
  },
  {
   "cell_type": "code",
   "execution_count": 22,
   "id": "c7836dc1",
   "metadata": {},
   "outputs": [
    {
     "name": "stdout",
     "output_type": "stream",
     "text": [
      "1/1 [==============================] - 0s 98ms/step\n",
      "Predicted probability of addiction: 0.9891011714935303\n",
      "Predicted class: Addicted\n"
     ]
    }
   ],
   "source": [
    "new_data = np.array([[53,5,3]])\n",
    "new_data_scaled = scaler.transform(new_data)\n",
    "prediction = model.predict(new_data_scaled)\n",
    "predicted_probability = prediction[0, 0]\n",
    "predicted_class = \"Addicted\" if predicted_probability >= 0.5 else \"Not Addicted\"\n",
    "\n",
    "print(f'Predicted probability of addiction: {predicted_probability}')\n",
    "print(f'Predicted class: {predicted_class}')"
   ]
  },
  {
   "cell_type": "code",
   "execution_count": 23,
   "id": "f4764ced",
   "metadata": {},
   "outputs": [],
   "source": [
    "model1 = models.Sequential()\n",
    "model1.add(layers.Dense(64, activation='relu', input_shape=(X_train.shape[1],)))\n",
    "model1.add(layers.Dense(16, activation='relu'))\n",
    "model1.add(layers.Dense(1, activation='sigmoid'))"
   ]
  },
  {
   "cell_type": "code",
   "execution_count": 24,
   "id": "915e4e31",
   "metadata": {},
   "outputs": [],
   "source": [
    "model1.compile(optimizer='adam', loss='binary_crossentropy', metrics=['accuracy'])\n",
    "\n"
   ]
  },
  {
   "cell_type": "code",
   "execution_count": 25,
   "id": "7453931a",
   "metadata": {
    "scrolled": true
   },
   "outputs": [
    {
     "name": "stdout",
     "output_type": "stream",
     "text": [
      "13/13 [==============================] - 0s 2ms/step - loss: 1.8789 - accuracy: 0.4175\n",
      "Test accuracy: 0.41749998927116394\n"
     ]
    }
   ],
   "source": [
    "\n",
    "test_loss, test_acc = model1.evaluate(X_test, y_test)\n",
    "print(f'Test accuracy: {test_acc}')"
   ]
  },
  {
   "cell_type": "code",
   "execution_count": 26,
   "id": "efa4d600",
   "metadata": {},
   "outputs": [
    {
     "name": "stdout",
     "output_type": "stream",
     "text": [
      "1/1 [==============================] - 0s 60ms/step\n",
      "Predicted probability of addiction: 0.5657485723495483\n",
      "Predicted class: Addicted\n"
     ]
    }
   ],
   "source": [
    "new_data = np.array([[53,5,3]])\n",
    "new_data_scaled = scaler.transform(new_data)\n",
    "prediction = model1.predict(new_data_scaled)\n",
    "predicted_probability = prediction[0, 0]\n",
    "predicted_class = \"Addicted\" if predicted_probability >= 0.5 else \"Not Addicted\"\n",
    "\n",
    "print(f'Predicted probability of addiction: {predicted_probability}')\n",
    "print(f'Predicted class: {predicted_class}')"
   ]
  },
  {
   "cell_type": "code",
   "execution_count": 27,
   "id": "a147ddb6",
   "metadata": {},
   "outputs": [],
   "source": [
    "\n",
    "\n",
    "model2 = models.Sequential()\n",
    "model2.add(layers.Dense(32, activation='relu', input_shape=(X_train.shape[1],)))\n",
    "model2.add(layers.Dense(32, activation='relu')) \n",
    "model2.add(layers.Dense(1, activation='sigmoid'))\n"
   ]
  },
  {
   "cell_type": "code",
   "execution_count": 28,
   "id": "2d30d7dc",
   "metadata": {},
   "outputs": [],
   "source": [
    "model2.compile(optimizer='adam', loss='binary_crossentropy', metrics=['accuracy'])\n"
   ]
  },
  {
   "cell_type": "code",
   "execution_count": 29,
   "id": "934ee4e2",
   "metadata": {},
   "outputs": [
    {
     "name": "stdout",
     "output_type": "stream",
     "text": [
      "Epoch 1/50\n",
      "160/160 [==============================] - 1s 3ms/step - loss: 0.9222 - accuracy: 0.6672 - val_loss: 0.4907 - val_accuracy: 0.7625\n",
      "Epoch 2/50\n",
      "160/160 [==============================] - 0s 2ms/step - loss: 0.4180 - accuracy: 0.8672 - val_loss: 0.3829 - val_accuracy: 0.8875\n",
      "Epoch 3/50\n",
      "160/160 [==============================] - 0s 2ms/step - loss: 0.3386 - accuracy: 0.8984 - val_loss: 0.3123 - val_accuracy: 0.9625\n",
      "Epoch 4/50\n",
      "160/160 [==============================] - 0s 2ms/step - loss: 0.2848 - accuracy: 0.9133 - val_loss: 0.2690 - val_accuracy: 0.9312\n",
      "Epoch 5/50\n",
      "160/160 [==============================] - 0s 2ms/step - loss: 0.2419 - accuracy: 0.9266 - val_loss: 0.2437 - val_accuracy: 1.0000\n",
      "Epoch 6/50\n",
      "160/160 [==============================] - 0s 2ms/step - loss: 0.2130 - accuracy: 0.9461 - val_loss: 0.2136 - val_accuracy: 0.9844\n",
      "Epoch 7/50\n",
      "160/160 [==============================] - 0s 2ms/step - loss: 0.1951 - accuracy: 0.9414 - val_loss: 0.2473 - val_accuracy: 0.8656\n",
      "Epoch 8/50\n",
      "160/160 [==============================] - 0s 2ms/step - loss: 0.1851 - accuracy: 0.9375 - val_loss: 0.2520 - val_accuracy: 0.8531\n",
      "Epoch 9/50\n",
      "160/160 [==============================] - 0s 2ms/step - loss: 0.1775 - accuracy: 0.9336 - val_loss: 0.1715 - val_accuracy: 0.9781\n",
      "Epoch 10/50\n",
      "160/160 [==============================] - 0s 2ms/step - loss: 0.1529 - accuracy: 0.9539 - val_loss: 0.1845 - val_accuracy: 0.9344\n",
      "Epoch 11/50\n",
      "160/160 [==============================] - 0s 2ms/step - loss: 0.1297 - accuracy: 0.9711 - val_loss: 0.1442 - val_accuracy: 0.9719\n",
      "Epoch 12/50\n",
      "160/160 [==============================] - 0s 2ms/step - loss: 0.1300 - accuracy: 0.9625 - val_loss: 0.1358 - val_accuracy: 0.9563\n",
      "Epoch 13/50\n",
      "160/160 [==============================] - 0s 2ms/step - loss: 0.1136 - accuracy: 0.9758 - val_loss: 0.1273 - val_accuracy: 0.9719\n",
      "Epoch 14/50\n",
      "160/160 [==============================] - 0s 2ms/step - loss: 0.1118 - accuracy: 0.9766 - val_loss: 0.1209 - val_accuracy: 0.9781\n",
      "Epoch 15/50\n",
      "160/160 [==============================] - 0s 2ms/step - loss: 0.1028 - accuracy: 0.9711 - val_loss: 0.1158 - val_accuracy: 0.9531\n",
      "Epoch 16/50\n",
      "160/160 [==============================] - 0s 2ms/step - loss: 0.1136 - accuracy: 0.9625 - val_loss: 0.1188 - val_accuracy: 0.9469\n",
      "Epoch 17/50\n",
      "160/160 [==============================] - 0s 2ms/step - loss: 0.1016 - accuracy: 0.9656 - val_loss: 0.1562 - val_accuracy: 0.9438\n",
      "Epoch 18/50\n",
      "160/160 [==============================] - 0s 2ms/step - loss: 0.0931 - accuracy: 0.9688 - val_loss: 0.1042 - val_accuracy: 0.9969\n",
      "Epoch 19/50\n",
      "160/160 [==============================] - 0s 2ms/step - loss: 0.0874 - accuracy: 0.9703 - val_loss: 0.1662 - val_accuracy: 0.9250\n",
      "Epoch 20/50\n",
      "160/160 [==============================] - 0s 2ms/step - loss: 0.0789 - accuracy: 0.9812 - val_loss: 0.0949 - val_accuracy: 0.9719\n",
      "Epoch 21/50\n",
      "160/160 [==============================] - 0s 2ms/step - loss: 0.0895 - accuracy: 0.9727 - val_loss: 0.0892 - val_accuracy: 0.9719\n",
      "Epoch 22/50\n",
      "160/160 [==============================] - 0s 2ms/step - loss: 0.0800 - accuracy: 0.9750 - val_loss: 0.0861 - val_accuracy: 0.9781\n",
      "Epoch 23/50\n",
      "160/160 [==============================] - 0s 2ms/step - loss: 0.0793 - accuracy: 0.9703 - val_loss: 0.1531 - val_accuracy: 0.9312\n",
      "Epoch 24/50\n",
      "160/160 [==============================] - 0s 2ms/step - loss: 0.0726 - accuracy: 0.9789 - val_loss: 0.0803 - val_accuracy: 1.0000\n",
      "Epoch 25/50\n",
      "160/160 [==============================] - 0s 2ms/step - loss: 0.0698 - accuracy: 0.9773 - val_loss: 0.0776 - val_accuracy: 0.9906\n",
      "Epoch 26/50\n",
      "160/160 [==============================] - 0s 2ms/step - loss: 0.0662 - accuracy: 0.9820 - val_loss: 0.1333 - val_accuracy: 0.9531\n",
      "Epoch 27/50\n",
      "160/160 [==============================] - 0s 2ms/step - loss: 0.0866 - accuracy: 0.9656 - val_loss: 0.1221 - val_accuracy: 0.9563\n",
      "Epoch 28/50\n",
      "160/160 [==============================] - 0s 2ms/step - loss: 0.0563 - accuracy: 0.9828 - val_loss: 0.0733 - val_accuracy: 0.9719\n",
      "Epoch 29/50\n",
      "160/160 [==============================] - 0s 2ms/step - loss: 0.0580 - accuracy: 0.9836 - val_loss: 0.1066 - val_accuracy: 0.9719\n",
      "Epoch 30/50\n",
      "160/160 [==============================] - 0s 2ms/step - loss: 0.0748 - accuracy: 0.9703 - val_loss: 0.0720 - val_accuracy: 0.9781\n",
      "Epoch 31/50\n",
      "160/160 [==============================] - 0s 2ms/step - loss: 0.0650 - accuracy: 0.9734 - val_loss: 0.1012 - val_accuracy: 0.9594\n",
      "Epoch 32/50\n",
      "160/160 [==============================] - 0s 2ms/step - loss: 0.0627 - accuracy: 0.9758 - val_loss: 0.0657 - val_accuracy: 0.9781\n",
      "Epoch 33/50\n",
      "160/160 [==============================] - 0s 2ms/step - loss: 0.0591 - accuracy: 0.9797 - val_loss: 0.0641 - val_accuracy: 0.9906\n",
      "Epoch 34/50\n",
      "160/160 [==============================] - 0s 3ms/step - loss: 0.0486 - accuracy: 0.9883 - val_loss: 0.0652 - val_accuracy: 0.9906\n",
      "Epoch 35/50\n",
      "160/160 [==============================] - 0s 3ms/step - loss: 0.0618 - accuracy: 0.9711 - val_loss: 0.0670 - val_accuracy: 0.9719\n",
      "Epoch 36/50\n",
      "160/160 [==============================] - 0s 2ms/step - loss: 0.0573 - accuracy: 0.9766 - val_loss: 0.0935 - val_accuracy: 0.9719\n",
      "Epoch 37/50\n",
      "160/160 [==============================] - 0s 2ms/step - loss: 0.0627 - accuracy: 0.9719 - val_loss: 0.0660 - val_accuracy: 0.9719\n",
      "Epoch 38/50\n",
      "160/160 [==============================] - 0s 2ms/step - loss: 0.0501 - accuracy: 0.9797 - val_loss: 0.0559 - val_accuracy: 0.9719\n",
      "Epoch 39/50\n",
      "160/160 [==============================] - 0s 2ms/step - loss: 0.0463 - accuracy: 0.9859 - val_loss: 0.0553 - val_accuracy: 1.0000\n",
      "Epoch 40/50\n",
      "160/160 [==============================] - 0s 2ms/step - loss: 0.0421 - accuracy: 0.9906 - val_loss: 0.1016 - val_accuracy: 0.9719\n",
      "Epoch 41/50\n",
      "160/160 [==============================] - 0s 2ms/step - loss: 0.0491 - accuracy: 0.9820 - val_loss: 0.0766 - val_accuracy: 0.9563\n",
      "Epoch 42/50\n",
      "160/160 [==============================] - 0s 2ms/step - loss: 0.0533 - accuracy: 0.9781 - val_loss: 0.0528 - val_accuracy: 0.9969\n",
      "Epoch 43/50\n",
      "160/160 [==============================] - 0s 2ms/step - loss: 0.0411 - accuracy: 0.9867 - val_loss: 0.1406 - val_accuracy: 0.9312\n",
      "Epoch 44/50\n",
      "160/160 [==============================] - 0s 2ms/step - loss: 0.0479 - accuracy: 0.9797 - val_loss: 0.0518 - val_accuracy: 0.9812\n",
      "Epoch 45/50\n",
      "160/160 [==============================] - 0s 2ms/step - loss: 0.0433 - accuracy: 0.9852 - val_loss: 0.0708 - val_accuracy: 0.9656\n",
      "Epoch 46/50\n",
      "160/160 [==============================] - 0s 2ms/step - loss: 0.0624 - accuracy: 0.9750 - val_loss: 0.0496 - val_accuracy: 0.9750\n",
      "Epoch 47/50\n",
      "160/160 [==============================] - 0s 2ms/step - loss: 0.0346 - accuracy: 0.9906 - val_loss: 0.0469 - val_accuracy: 0.9906\n",
      "Epoch 48/50\n",
      "160/160 [==============================] - 0s 2ms/step - loss: 0.0366 - accuracy: 0.9914 - val_loss: 0.0500 - val_accuracy: 0.9937\n",
      "Epoch 49/50\n",
      "160/160 [==============================] - 0s 2ms/step - loss: 0.0430 - accuracy: 0.9836 - val_loss: 0.0676 - val_accuracy: 0.9781\n",
      "Epoch 50/50\n",
      "160/160 [==============================] - 0s 2ms/step - loss: 0.0372 - accuracy: 0.9867 - val_loss: 0.0870 - val_accuracy: 0.9719\n"
     ]
    },
    {
     "data": {
      "text/plain": [
       "<keras.src.callbacks.History at 0x1be4fca09d0>"
      ]
     },
     "execution_count": 29,
     "metadata": {},
     "output_type": "execute_result"
    }
   ],
   "source": [
    "model2.fit(X_train, y_train, epochs=50, batch_size=8, validation_split=0.2)\n"
   ]
  },
  {
   "cell_type": "code",
   "execution_count": 30,
   "id": "f93efff3",
   "metadata": {
    "scrolled": true
   },
   "outputs": [
    {
     "name": "stdout",
     "output_type": "stream",
     "text": [
      "13/13 [==============================] - 0s 2ms/step - loss: 0.0561 - accuracy: 0.9750\n",
      "Test accuracy: 0.9750000238418579\n"
     ]
    }
   ],
   "source": [
    "\n",
    "test_loss, test_acc = model2.evaluate(X_test, y_test)\n",
    "print(f'Test accuracy: {test_acc}')"
   ]
  },
  {
   "cell_type": "code",
   "execution_count": 31,
   "id": "cb01d4a7",
   "metadata": {},
   "outputs": [
    {
     "name": "stdout",
     "output_type": "stream",
     "text": [
      "1/1 [==============================] - 0s 117ms/step\n",
      "Predicted probability of addiction: 0.4360797107219696\n",
      "Predicted class: Not Addicted\n"
     ]
    }
   ],
   "source": [
    "new_data = np.array([[26,5,11]])\n",
    "new_data_scaled = scaler.transform(new_data)\n",
    "prediction = model2.predict(new_data_scaled)\n",
    "predicted_probability = prediction[0, 0]\n",
    "predicted_class = \"Addicted\" if predicted_probability >= 0.5 else \"Not Addicted\"\n",
    "\n",
    "print(f'Predicted probability of addiction: {predicted_probability}')\n",
    "print(f'Predicted class: {predicted_class}')\n"
   ]
  },
  {
   "cell_type": "code",
   "execution_count": 32,
   "id": "4958b22c",
   "metadata": {},
   "outputs": [],
   "source": [
    "def create_model(optimizer='adam', hidden_neurons=32):\n",
    "    model = models.Sequential()\n",
    "    model.add(layers.Dense(hidden_neurons, activation='relu', input_shape=(X_train_scaled.shape[1],)))\n",
    "    model.add(layers.Dense(1, activation='sigmoid'))\n",
    "    model.compile(optimizer=optimizer, loss='binary_crossentropy', metrics=['accuracy'])\n",
    "    return model"
   ]
  },
  {
   "cell_type": "code",
   "execution_count": 33,
   "id": "a512de17",
   "metadata": {},
   "outputs": [],
   "source": [
    "optimizers = ['adam', 'sgd']\n",
    "hidden_neurons_list = [16, 32, 64]"
   ]
  },
  {
   "cell_type": "code",
   "execution_count": 34,
   "id": "e802d4ba",
   "metadata": {},
   "outputs": [],
   "source": [
    "results = []\n",
    "for optimizer in optimizers:\n",
    "    for hidden_neurons in hidden_neurons_list:\n",
    "        model = create_model(optimizer=optimizer, hidden_neurons=hidden_neurons)\n",
    "        history = model.fit(X_train_scaled, y_train, epochs=50, batch_size=8, validation_split=0.2, verbose=0)\n",
    "        test_loss, test_acc = model.evaluate(X_test_scaled, y_test, verbose=0)\n",
    "        results.append({'optimizer': optimizer, 'hidden_neurons': hidden_neurons, 'test_accuracy': test_acc, 'history': history})\n"
   ]
  },
  {
   "cell_type": "code",
   "execution_count": 35,
   "id": "1a6b678f",
   "metadata": {},
   "outputs": [
    {
     "data": {
      "image/png": "[encoded data removed]",
      "text/plain": [
       "<Figure size 640x480 with 1 Axes>"
      ]
     },
     "metadata": {},
     "output_type": "display_data"
    }
   ],
   "source": [
    "for result in results:\n",
    "    plt.plot(result['history'].history['accuracy'], label=f\"{result['optimizer']}_{result['hidden_neurons']}\")\n",
    "\n",
    "plt.title('Training Accuracy Over Epochs')\n",
    "plt.xlabel('Epochs')\n",
    "plt.ylabel('Accuracy')\n",
    "plt.legend()\n",
    "plt.show()"
   ]
  },
  {
   "cell_type": "code",
   "execution_count": 36,
   "id": "abf57f4b",
   "metadata": {},
   "outputs": [
    {
     "name": "stdout",
     "output_type": "stream",
     "text": [
      "Test Accuracy for adam_16: 1.0\n",
      "Test Accuracy for adam_32: 1.0\n",
      "Test Accuracy for adam_64: 1.0\n",
      "Test Accuracy for sgd_16: 1.0\n",
      "Test Accuracy for sgd_32: 1.0\n",
      "Test Accuracy for sgd_64: 1.0\n"
     ]
    }
   ],
   "source": [
    "for result in results:\n",
    "    print(f\"Test Accuracy for {result['optimizer']}_{result['hidden_neurons']}: {result['test_accuracy']}\")"
   ]
  },
  {
   "cell_type": "code",
   "execution_count": 37,
   "id": "befe6e8a",
   "metadata": {},
   "outputs": [
    {
     "name": "stdout",
     "output_type": "stream",
     "text": [
      "Accuracy with L-BFGS: 0.995\n"
     ]
    }
   ],
   "source": [
    "logistic_model = LogisticRegression(solver='lbfgs')\n",
    "logistic_model.fit(X_train_scaled, y_train)\n",
    "\n",
    "\n",
    "y_pred = logistic_model.predict(X_test_scaled)\n",
    "\n",
    "accuracy = accuracy_score(y_test, y_pred)\n",
    "print(f'Accuracy with L-BFGS: {accuracy}')"
   ]
  },
  {
   "cell_type": "code",
   "execution_count": 38,
   "id": "7cd488fe",
   "metadata": {},
   "outputs": [],
   "source": [
    "\n",
    "scaler = StandardScaler()\n",
    "X_train_scaled = scaler.fit_transform(X_train)\n",
    "X_test_scaled = scaler.transform(X_test)\n"
   ]
  },
  {
   "cell_type": "code",
   "execution_count": 39,
   "id": "5c254fba",
   "metadata": {},
   "outputs": [
    {
     "name": "stdout",
     "output_type": "stream",
     "text": [
      "Scaled X_train:\n",
      "[[ 1.03894732  0.91444754  1.17665494]\n",
      " [ 1.60699556 -0.78060872 -0.56633583]\n",
      " [ 0.05777309  0.34942878  1.61240263]\n",
      " ...\n",
      " [-0.61355665  0.06691941 -0.13058814]\n",
      " [-1.69801238  1.76197566  0.5230334 ]\n",
      " [ 0.57418058 -1.0631181  -1.00208352]]\n",
      "\n",
      "Scaled X_test:\n",
      "[[-0.61355665  0.06691941 -0.13058814]\n",
      " [ 1.6586363  -0.78060872 -1.43783121]\n",
      " [-0.04550841  2.32699442  1.39452878]\n",
      " ...\n",
      " [ 1.34879181  2.04448504  1.39452878]\n",
      " [-1.28488638 -1.0631181  -1.65570505]\n",
      " [-0.3553529   0.63193816  0.74090725]]\n"
     ]
    }
   ],
   "source": [
    "\n",
    "print(\"Scaled X_train:\")\n",
    "print(X_train_scaled)\n",
    "\n",
    "print(\"\\nScaled X_test:\")\n",
    "print(X_test_scaled)\n"
   ]
  },
  {
   "cell_type": "code",
   "execution_count": 40,
   "id": "2c3de55d",
   "metadata": {},
   "outputs": [],
   "source": [
    "\n",
    "svm_model = SVC(kernel='linear', probability=True)  "
   ]
  },
  {
   "cell_type": "code",
   "execution_count": 41,
   "id": "c1004cd2",
   "metadata": {},
   "outputs": [
    {
     "data": {
      "text/html": [
       "<style>#sk-container-id-1 {color: black;}#sk-container-id-1 pre{padding: 0;}#sk-container-id-1 div.sk-toggleable {background-color: white;}#sk-container-id-1 label.sk-toggleable__label {cursor: pointer;display: block;width: 100%;margin-bottom: 0;padding: 0.3em;box-sizing: border-box;text-align: center;}#sk-container-id-1 label.sk-toggleable__label-arrow:before {content: \"▸\";float: left;margin-right: 0.25em;color: #696969;}#sk-container-id-1 label.sk-toggleable__label-arrow:hover:before {color: black;}#sk-container-id-1 div.sk-estimator:hover label.sk-toggleable__label-arrow:before {color: black;}#sk-container-id-1 div.sk-toggleable__content {max-height: 0;max-width: 0;overflow: hidden;text-align: left;background-color: #f0f8ff;}#sk-container-id-1 div.sk-toggleable__content pre {margin: 0.2em;color: black;border-radius: 0.25em;background-color: #f0f8ff;}#sk-container-id-1 input.sk-toggleable__control:checked~div.sk-toggleable__content {max-height: 200px;max-width: 100%;overflow: auto;}#sk-container-id-1 input.sk-toggleable__control:checked~label.sk-toggleable__label-arrow:before {content: \"▾\";}#sk-container-id-1 div.sk-estimator input.sk-toggleable__control:checked~label.sk-toggleable__label {background-color: #d4ebff;}#sk-container-id-1 div.sk-label input.sk-toggleable__control:checked~label.sk-toggleable__label {background-color: #d4ebff;}#sk-container-id-1 input.sk-hidden--visually {border: 0;clip: rect(1px 1px 1px 1px);clip: rect(1px, 1px, 1px, 1px);height: 1px;margin: -1px;overflow: hidden;padding: 0;position: absolute;width: 1px;}#sk-container-id-1 div.sk-estimator {font-family: monospace;background-color: #f0f8ff;border: 1px dotted black;border-radius: 0.25em;box-sizing: border-box;margin-bottom: 0.5em;}#sk-container-id-1 div.sk-estimator:hover {background-color: #d4ebff;}#sk-container-id-1 div.sk-parallel-item::after {content: \"\";width: 100%;border-bottom: 1px solid gray;flex-grow: 1;}#sk-container-id-1 div.sk-label:hover label.sk-toggleable__label {background-color: #d4ebff;}#sk-container-id-1 div.sk-serial::before {content: \"\";position: absolute;border-left: 1px solid gray;box-sizing: border-box;top: 0;bottom: 0;left: 50%;z-index: 0;}#sk-container-id-1 div.sk-serial {display: flex;flex-direction: column;align-items: center;background-color: white;padding-right: 0.2em;padding-left: 0.2em;position: relative;}#sk-container-id-1 div.sk-item {position: relative;z-index: 1;}#sk-container-id-1 div.sk-parallel {display: flex;align-items: stretch;justify-content: center;background-color: white;position: relative;}#sk-container-id-1 div.sk-item::before, #sk-container-id-1 div.sk-parallel-item::before {content: \"\";position: absolute;border-left: 1px solid gray;box-sizing: border-box;top: 0;bottom: 0;left: 50%;z-index: -1;}#sk-container-id-1 div.sk-parallel-item {display: flex;flex-direction: column;z-index: 1;position: relative;background-color: white;}#sk-container-id-1 div.sk-parallel-item:first-child::after {align-self: flex-end;width: 50%;}#sk-container-id-1 div.sk-parallel-item:last-child::after {align-self: flex-start;width: 50%;}#sk-container-id-1 div.sk-parallel-item:only-child::after {width: 0;}#sk-container-id-1 div.sk-dashed-wrapped {border: 1px dashed gray;margin: 0 0.4em 0.5em 0.4em;box-sizing: border-box;padding-bottom: 0.4em;background-color: white;}#sk-container-id-1 div.sk-label label {font-family: monospace;font-weight: bold;display: inline-block;line-height: 1.2em;}#sk-container-id-1 div.sk-label-container {text-align: center;}#sk-container-id-1 div.sk-container {/* jupyter's `normalize.less` sets `[hidden] { display: none; }` but bootstrap.min.css set `[hidden] { display: none !important; }` so we also need the `!important` here to be able to override the default hidden behavior on the sphinx rendered scikit-learn.org. See: https://github.com/scikit-learn/scikit-learn/issues/21755 */display: inline-block !important;position: relative;}#sk-container-id-1 div.sk-text-repr-fallback {display: none;}</style><div id=\"sk-container-id-1\" class=\"sk-top-container\"><div class=\"sk-text-repr-fallback\"><pre>SVC(kernel=&#x27;linear&#x27;, probability=True)</pre><b>In a Jupyter environment, please rerun this cell to show the HTML representation or trust the notebook. <br />On GitHub, the HTML representation is unable to render, please try loading this page with nbviewer.org.</b></div><div class=\"sk-container\" hidden><div class=\"sk-item\"><div class=\"sk-estimator sk-toggleable\"><input class=\"sk-toggleable__control sk-hidden--visually\" id=\"sk-estimator-id-1\" type=\"checkbox\" checked><label for=\"sk-estimator-id-1\" class=\"sk-toggleable__label sk-toggleable__label-arrow\">SVC</label><div class=\"sk-toggleable__content\"><pre>SVC(kernel=&#x27;linear&#x27;, probability=True)</pre></div></div></div></div></div>"
      ],
      "text/plain": [
       "SVC(kernel='linear', probability=True)"
      ]
     },
     "execution_count": 41,
     "metadata": {},
     "output_type": "execute_result"
    }
   ],
   "source": [
    "svm_model.fit(X_train_scaled, y_train)\n",
    "\n"
   ]
  },
  {
   "cell_type": "code",
   "execution_count": 42,
   "id": "ce359bee",
   "metadata": {},
   "outputs": [],
   "source": [
    "svm_predictions = svm_model.predict(X_test_scaled)\n"
   ]
  },
  {
   "cell_type": "code",
   "execution_count": 43,
   "id": "da3493a9",
   "metadata": {},
   "outputs": [
    {
     "name": "stdout",
     "output_type": "stream",
     "text": [
      "Test accuracy: 0.9925\n"
     ]
    }
   ],
   "source": [
    "accuracy = accuracy_score(y_test, svm_predictions)\n",
    "print(f'Test accuracy: {accuracy}')\n"
   ]
  },
  {
   "cell_type": "code",
   "execution_count": 44,
   "id": "77b935d6",
   "metadata": {},
   "outputs": [],
   "source": [
    "new_data = np.array([\n",
    "    [18, 3, 5],\n",
    "    [34, 3, 6],\n",
    "    [46, 3, 4],\n",
    "    [53, 5, 3],\n",
    "    [26, 5, 11],\n",
    "    [75, 9, 14],\n",
    "    [79,4,13]\n",
    "])\n",
    "new_data_scaled = scaler.transform(new_data)\n",
    "\n"
   ]
  },
  {
   "cell_type": "code",
   "execution_count": 45,
   "id": "20024b77",
   "metadata": {},
   "outputs": [],
   "source": [
    "svm_predictions= svm_model.predict(new_data_scaled)\n"
   ]
  },
  {
   "cell_type": "code",
   "execution_count": 46,
   "id": "d675b279",
   "metadata": {},
   "outputs": [],
   "source": [
    "predicted_labels = [\"Addicted\" if pred == 1 else \"Not Addicted\" for pred in svm_predictions]\n",
    "\n"
   ]
  },
  {
   "cell_type": "code",
   "execution_count": 47,
   "id": "4457df7f",
   "metadata": {},
   "outputs": [
    {
     "name": "stdout",
     "output_type": "stream",
     "text": [
      "Predictions for new_data:\n",
      "Predicted class: 0, Label: Not Addicted\n",
      "Predicted class: 0, Label: Not Addicted\n",
      "Predicted class: 1, Label: Addicted\n",
      "Predicted class: 1, Label: Addicted\n",
      "Predicted class: 0, Label: Not Addicted\n",
      "Predicted class: 0, Label: Not Addicted\n",
      "Predicted class: 0, Label: Not Addicted\n"
     ]
    }
   ],
   "source": [
    "\n",
    "print(\"Predictions for new_data:\")\n",
    "for pred, label in zip(svm_predictions, predicted_labels):\n",
    "    print(f\"Predicted class: {pred}, Label: {label}\")\n",
    "\n"
   ]
  },
  {
   "cell_type": "code",
   "execution_count": 58,
   "id": "b7cc6c18",
   "metadata": {},
   "outputs": [
    {
     "data": {
      "image/png": "[encoded data removed]",
      "text/plain": [
       "<Figure size 640x480 with 1 Axes>"
      ]
     },
     "metadata": {},
     "output_type": "display_data"
    }
   ],
   "source": [
    "y_scores = svm_model.decision_function(X_test_scaled)\n",
    "fpr, tpr, thresholds = roc_curve(y_test, y_scores)\n",
    "roc_auc = auc(fpr, tpr)\n",
    "\n",
    "plt.figure()\n",
    "lw = 2\n",
    "plt.plot(fpr, tpr, color='darkorange', lw=lw, label='ROC curve (area = {:.2f})'.format(roc_auc))\n",
    "plt.plot([0, 1], [0, 1], color='navy', lw=lw, linestyle='--')\n",
    "plt.xlim([0.0, 1.0])\n",
    "plt.ylim([0.0, 1.05])\n",
    "plt.xlabel('False Positive Rate')\n",
    "plt.ylabel('True Positive Rate')\n",
    "plt.title('Receiver Operating Characteristic (ROC) Curve')\n",
    "plt.legend(loc=\"lower right\")\n",
    "plt.show()"
   ]
  },
  {
   "cell_type": "code",
   "execution_count": 55,
   "id": "f3d81c48",
   "metadata": {
    "scrolled": true
   },
   "outputs": [
    {
     "name": "stdout",
     "output_type": "stream",
     "text": [
      "Accuracy: 1.0\n",
      "Precision: 1.0\n",
      "Recall: 1.0\n",
      "F1 Score: 1.0\n",
      "Confusion Matrix:\n",
      "[[233   0]\n",
      " [  0 167]]\n",
      "Error Rate: 0.0\n"
     ]
    }
   ],
   "source": [
    "model = MLPClassifier(hidden_layer_sizes=(32,), activation='relu', solver='adam', max_iter=500, random_state=42)\n",
    "model.fit(X_train_scaled, y_train)\n",
    "\n",
    "y_pred = model.predict(X_test_scaled)\n",
    "\n",
    "accuracy = accuracy_score(y_test, y_pred)\n",
    "precision = precision_score(y_test, y_pred)\n",
    "recall = recall_score(y_test, y_pred)\n",
    "f1 = f1_score(y_test, y_pred)\n",
    "conf_matrix = confusion_matrix(y_test, y_pred)\n",
    "\n",
    "error_rate = 1 - accuracy\n",
    "\n",
    "print(f'Accuracy: {accuracy}')\n",
    "print(f'Precision: {precision}')\n",
    "print(f'Recall: {recall}')\n",
    "print(f'F1 Score: {f1}')\n",
    "print('Confusion Matrix:')\n",
    "print(conf_matrix)\n",
    "print(f'Error Rate: {error_rate}')"
   ]
  },
  {
   "cell_type": "code",
   "execution_count": 51,
   "id": "95f9cf4a",
   "metadata": {},
   "outputs": [
    {
     "name": "stdout",
     "output_type": "stream",
     "text": [
      "F1 Score: 1.0\n",
      "Confusion Matrix:\n",
      "[[233   0]\n",
      " [  0 167]]\n"
     ]
    }
   ],
   "source": [
    "recall = recall_score(y_test, y_pred)\n",
    "\n",
    "print(f'F1 Score: {f1}')\n",
    "\n",
    "conf_matrix = confusion_matrix(y_test, y_pred)\n",
    "print('Confusion Matrix:')\n",
    "print(conf_matrix)"
   ]
  },
  {
   "cell_type": "code",
   "execution_count": 52,
   "id": "e67cd26d",
   "metadata": {},
   "outputs": [
    {
     "name": "stdout",
     "output_type": "stream",
     "text": [
      "Classification report For ANN : \n",
      "              precision    recall  f1-score   support\n",
      "\n",
      "           0       0.59      1.00      0.75       233\n",
      "           1       1.00      0.05      0.09       167\n",
      "\n",
      "    accuracy                           0.60       400\n",
      "   macro avg       0.80      0.52      0.42       400\n",
      "weighted avg       0.76      0.60      0.47       400\n",
      "\n"
     ]
    }
   ],
   "source": [
    "y_pred_ann_prob=model.predict(X_test)\n",
    "y_pred_ann=(y_pred_ann_prob>0.5).astype(int)\n",
    "\n",
    "classification_report_ann=classification_report(y_test,y_pred_ann)\n",
    "print(\"Classification report For ANN : \") \n",
    "print(classification_report_ann)"
   ]
  },
  {
   "cell_type": "code",
   "execution_count": null,
   "id": "8540f1b1",
   "metadata": {},
   "outputs": [],
   "source": []
  }
 ],
 "metadata": {
  "kernelspec": {
   "display_name": "Python 3 (ipykernel)",
   "language": "python",
   "name": "python3"
  },
  "language_info": {
   "codemirror_mode": {
    "name": "ipython",
    "version": 3
   },
   "file_extension": ".py",
   "mimetype": "text/x-python",
   "name": "python",
   "nbconvert_exporter": "python",
   "pygments_lexer": "ipython3",
   "version": "3.11.5"
  }
 },
 "nbformat": 4,
 "nbformat_minor": 5
}
